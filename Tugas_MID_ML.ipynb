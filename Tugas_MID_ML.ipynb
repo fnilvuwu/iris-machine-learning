{
  "cells": [
    {
      "cell_type": "markdown",
      "metadata": {
        "id": "view-in-github",
        "colab_type": "text"
      },
      "source": [
        "<a href=\"https://colab.research.google.com/github/fnilvuwu/iris_machine_learning/blob/main/Tugas_MID_ML.ipynb\" target=\"_parent\"><img src=\"https://colab.research.google.com/assets/colab-badge.svg\" alt=\"Open In Colab\"/></a>"
      ]
    },
    {
      "cell_type": "markdown",
      "metadata": {
        "id": "IlYqbYUXHBbl"
      },
      "source": [
        "#Library"
      ]
    },
    {
      "cell_type": "code",
      "execution_count": null,
      "metadata": {
        "id": "VMlIO2fMFXd8"
      },
      "outputs": [],
      "source": [
        "import pandas as pd\n",
        "import matplotlib.pyplot as plt\n",
        "import seaborn as sns\n",
        "from sklearn.preprocessing import LabelEncoder\n",
        "import sklearn\n",
        "import numpy as np\n",
        "import sklearn.model_selection as ms"
      ]
    },
    {
      "cell_type": "markdown",
      "metadata": {
        "id": "uiKdb7kQHQ63"
      },
      "source": [
        "#Data Preparation"
      ]
    },
    {
      "cell_type": "code",
      "execution_count": null,
      "metadata": {
        "colab": {
          "base_uri": "https://localhost:8080/",
          "height": 387
        },
        "id": "uWnVFbTOOHiZ",
        "outputId": "82a3386d-11bf-4d91-a4fb-2de8466078a0"
      },
      "outputs": [
        {
          "output_type": "error",
          "ename": "MessageError",
          "evalue": "ignored",
          "traceback": [
            "\u001b[0;31m---------------------------------------------------------------------------\u001b[0m",
            "\u001b[0;31mMessageError\u001b[0m                              Traceback (most recent call last)",
            "\u001b[0;32m<ipython-input-2-d5df0069828e>\u001b[0m in \u001b[0;36m<module>\u001b[0;34m\u001b[0m\n\u001b[1;32m      1\u001b[0m \u001b[0;32mfrom\u001b[0m \u001b[0mgoogle\u001b[0m\u001b[0;34m.\u001b[0m\u001b[0mcolab\u001b[0m \u001b[0;32mimport\u001b[0m \u001b[0mdrive\u001b[0m\u001b[0;34m\u001b[0m\u001b[0;34m\u001b[0m\u001b[0m\n\u001b[0;32m----> 2\u001b[0;31m \u001b[0mdrive\u001b[0m\u001b[0;34m.\u001b[0m\u001b[0mmount\u001b[0m\u001b[0;34m(\u001b[0m\u001b[0;34m'/content/drive'\u001b[0m\u001b[0;34m)\u001b[0m\u001b[0;34m\u001b[0m\u001b[0;34m\u001b[0m\u001b[0m\n\u001b[0m",
            "\u001b[0;32m/usr/local/lib/python3.7/dist-packages/google/colab/drive.py\u001b[0m in \u001b[0;36mmount\u001b[0;34m(mountpoint, force_remount, timeout_ms, readonly)\u001b[0m\n\u001b[1;32m    104\u001b[0m       \u001b[0mtimeout_ms\u001b[0m\u001b[0;34m=\u001b[0m\u001b[0mtimeout_ms\u001b[0m\u001b[0;34m,\u001b[0m\u001b[0;34m\u001b[0m\u001b[0;34m\u001b[0m\u001b[0m\n\u001b[1;32m    105\u001b[0m       \u001b[0mephemeral\u001b[0m\u001b[0;34m=\u001b[0m\u001b[0;32mTrue\u001b[0m\u001b[0;34m,\u001b[0m\u001b[0;34m\u001b[0m\u001b[0;34m\u001b[0m\u001b[0m\n\u001b[0;32m--> 106\u001b[0;31m       readonly=readonly)\n\u001b[0m\u001b[1;32m    107\u001b[0m \u001b[0;34m\u001b[0m\u001b[0m\n\u001b[1;32m    108\u001b[0m \u001b[0;34m\u001b[0m\u001b[0m\n",
            "\u001b[0;32m/usr/local/lib/python3.7/dist-packages/google/colab/drive.py\u001b[0m in \u001b[0;36m_mount\u001b[0;34m(mountpoint, force_remount, timeout_ms, ephemeral, readonly)\u001b[0m\n\u001b[1;32m    123\u001b[0m   \u001b[0;32mif\u001b[0m \u001b[0mephemeral\u001b[0m\u001b[0;34m:\u001b[0m\u001b[0;34m\u001b[0m\u001b[0;34m\u001b[0m\u001b[0m\n\u001b[1;32m    124\u001b[0m     _message.blocking_request(\n\u001b[0;32m--> 125\u001b[0;31m         'request_auth', request={'authType': 'dfs_ephemeral'}, timeout_sec=None)\n\u001b[0m\u001b[1;32m    126\u001b[0m \u001b[0;34m\u001b[0m\u001b[0m\n\u001b[1;32m    127\u001b[0m   \u001b[0mmountpoint\u001b[0m \u001b[0;34m=\u001b[0m \u001b[0m_os\u001b[0m\u001b[0;34m.\u001b[0m\u001b[0mpath\u001b[0m\u001b[0;34m.\u001b[0m\u001b[0mexpanduser\u001b[0m\u001b[0;34m(\u001b[0m\u001b[0mmountpoint\u001b[0m\u001b[0;34m)\u001b[0m\u001b[0;34m\u001b[0m\u001b[0;34m\u001b[0m\u001b[0m\n",
            "\u001b[0;32m/usr/local/lib/python3.7/dist-packages/google/colab/_message.py\u001b[0m in \u001b[0;36mblocking_request\u001b[0;34m(request_type, request, timeout_sec, parent)\u001b[0m\n\u001b[1;32m    169\u001b[0m   request_id = send_request(\n\u001b[1;32m    170\u001b[0m       request_type, request, parent=parent, expect_reply=True)\n\u001b[0;32m--> 171\u001b[0;31m   \u001b[0;32mreturn\u001b[0m \u001b[0mread_reply_from_input\u001b[0m\u001b[0;34m(\u001b[0m\u001b[0mrequest_id\u001b[0m\u001b[0;34m,\u001b[0m \u001b[0mtimeout_sec\u001b[0m\u001b[0;34m)\u001b[0m\u001b[0;34m\u001b[0m\u001b[0;34m\u001b[0m\u001b[0m\n\u001b[0m",
            "\u001b[0;32m/usr/local/lib/python3.7/dist-packages/google/colab/_message.py\u001b[0m in \u001b[0;36mread_reply_from_input\u001b[0;34m(message_id, timeout_sec)\u001b[0m\n\u001b[1;32m    100\u001b[0m         reply.get('colab_msg_id') == message_id):\n\u001b[1;32m    101\u001b[0m       \u001b[0;32mif\u001b[0m \u001b[0;34m'error'\u001b[0m \u001b[0;32min\u001b[0m \u001b[0mreply\u001b[0m\u001b[0;34m:\u001b[0m\u001b[0;34m\u001b[0m\u001b[0;34m\u001b[0m\u001b[0m\n\u001b[0;32m--> 102\u001b[0;31m         \u001b[0;32mraise\u001b[0m \u001b[0mMessageError\u001b[0m\u001b[0;34m(\u001b[0m\u001b[0mreply\u001b[0m\u001b[0;34m[\u001b[0m\u001b[0;34m'error'\u001b[0m\u001b[0;34m]\u001b[0m\u001b[0;34m)\u001b[0m\u001b[0;34m\u001b[0m\u001b[0;34m\u001b[0m\u001b[0m\n\u001b[0m\u001b[1;32m    103\u001b[0m       \u001b[0;32mreturn\u001b[0m \u001b[0mreply\u001b[0m\u001b[0;34m.\u001b[0m\u001b[0mget\u001b[0m\u001b[0;34m(\u001b[0m\u001b[0;34m'data'\u001b[0m\u001b[0;34m,\u001b[0m \u001b[0;32mNone\u001b[0m\u001b[0;34m)\u001b[0m\u001b[0;34m\u001b[0m\u001b[0;34m\u001b[0m\u001b[0m\n\u001b[1;32m    104\u001b[0m \u001b[0;34m\u001b[0m\u001b[0m\n",
            "\u001b[0;31mMessageError\u001b[0m: Error: credential propagation was unsuccessful"
          ]
        }
      ],
      "source": [
        "from google.colab import drive\n",
        "drive.mount('/content/drive')"
      ]
    },
    {
      "cell_type": "code",
      "execution_count": null,
      "metadata": {
        "id": "5etQM1KiHTpe"
      },
      "outputs": [],
      "source": [
        "df = pd.read_csv('/content/drive/MyDrive/Machine Learning/Iris.csv')"
      ]
    },
    {
      "cell_type": "code",
      "execution_count": null,
      "metadata": {
        "id": "-KtWhFCkHefR"
      },
      "outputs": [],
      "source": [
        "#Menampilkan 5 data pertama\n",
        "df.head()"
      ]
    },
    {
      "cell_type": "code",
      "execution_count": null,
      "metadata": {
        "id": "N-9YWSZcHgGk"
      },
      "outputs": [],
      "source": [
        "#Menampilkan jumlah data, tipe data, dan data kosong masing masing kolom \n",
        "df.info()"
      ]
    },
    {
      "cell_type": "code",
      "execution_count": null,
      "metadata": {
        "id": "5Ky0o0xGyg1y"
      },
      "outputs": [],
      "source": [
        "#Gak penting sih ini, cuman ditampilin aja gapapa\n",
        "df.describe()"
      ]
    },
    {
      "cell_type": "code",
      "execution_count": null,
      "metadata": {
        "id": "qfRVZ94Y3rNw"
      },
      "outputs": [],
      "source": [
        "#Drop kolom Id karna gak guna\n",
        "df = df.drop(columns=['Id'])"
      ]
    },
    {
      "cell_type": "code",
      "execution_count": null,
      "metadata": {
        "id": "r_fA7x7DZNVU"
      },
      "outputs": [],
      "source": [
        "#Menampilkan boxplot, untuk mendeteksi outlier\n",
        "plt.figure()\n",
        "\n",
        "for col in list(['SepalLengthCm','SepalWidthCm','PetalLengthCm','PetalWidthCm']):\n",
        "  sns.boxplot(x=df[col])\n",
        "  plt.show()"
      ]
    },
    {
      "cell_type": "code",
      "execution_count": null,
      "metadata": {
        "id": "cBmZs3Ea1MIK"
      },
      "outputs": [],
      "source": [
        "#Menghapus Outlier pada kolom SepalWidthCm dengan metode IQR\n",
        "Q1 = np.percentile(df['SepalWidthCm'], 25, interpolation = 'midpoint')\n",
        "Q3 = np.percentile(df['SepalWidthCm'], 75, interpolation = 'midpoint')\n",
        "IQR = Q3 - Q1\n",
        "\n",
        "upper = np.where(df['SepalWidthCm'] >= (Q3+1.5*IQR))\n",
        "lower = np.where(df['SepalWidthCm'] <= (Q1-1.5*IQR))\n",
        "\n",
        "df.drop(upper[0], inplace = True)\n",
        "df.drop(lower[0], inplace = True)"
      ]
    },
    {
      "cell_type": "code",
      "execution_count": null,
      "metadata": {
        "id": "_y9VER6a4mq1"
      },
      "outputs": [],
      "source": [
        "#Melihat value unik di kolom species\n",
        "df['Species'].unique()"
      ]
    },
    {
      "cell_type": "code",
      "execution_count": null,
      "metadata": {
        "id": "2cw_CG_kXF6M"
      },
      "outputs": [],
      "source": [
        "#Mengubah tipe data object pada dataframe menjadi int dari 0 sampai n\n",
        "le = LabelEncoder()\n",
        "for col in df:\n",
        "  if df['Species'].dtype == \"object\":\n",
        "    df['Species'] = le.fit_transform(df['Species'])"
      ]
    },
    {
      "cell_type": "code",
      "execution_count": null,
      "metadata": {
        "id": "X4BYjxhXbPD_"
      },
      "outputs": [],
      "source": [
        "#Melihat value unik di kolom species setelah di encode\n",
        "df['Species'].unique()"
      ]
    },
    {
      "cell_type": "markdown",
      "metadata": {
        "id": "HmvhaNESbrhH"
      },
      "source": [
        "<b>Label Spesies  setelah encode</b> <br>\n",
        "0 = Setosa <br>\n",
        "1 = Versicolor <br>\n",
        "2 = Virginica"
      ]
    },
    {
      "cell_type": "code",
      "execution_count": null,
      "metadata": {
        "id": "B7ACkYngHlz_"
      },
      "outputs": [],
      "source": [
        "#Menampilkan Correlation antar data\n",
        "plt.figure(figsize = (16, 6))\n",
        "df_corr = sns.heatmap(df.corr(), vmin=-1, vmax=1, annot=True)"
      ]
    },
    {
      "cell_type": "code",
      "execution_count": null,
      "metadata": {
        "id": "W8a2Ix4SXlze"
      },
      "outputs": [],
      "source": [
        "df_clean = df\n",
        "df_clean.head()"
      ]
    },
    {
      "cell_type": "markdown",
      "metadata": {
        "id": "YEr4vdYaWkRG"
      },
      "source": [
        "#Data Modeling"
      ]
    },
    {
      "cell_type": "markdown",
      "metadata": {
        "id": "hnuPxRKnhRW_"
      },
      "source": [
        "## Linear Regression"
      ]
    },
    {
      "cell_type": "markdown",
      "source": [
        "### Mengimport libraries"
      ],
      "metadata": {
        "id": "eTDS9Ls2QQTO"
      }
    },
    {
      "cell_type": "code",
      "source": [
        "import pandas as pd\n",
        "import numpy as np\n",
        "import matplotlib.pyplot as plt\n",
        "import seaborn as sns"
      ],
      "metadata": {
        "id": "OShPz3ScIS7H"
      },
      "execution_count": null,
      "outputs": []
    },
    {
      "cell_type": "markdown",
      "source": [
        "### Membaca dataset"
      ],
      "metadata": {
        "id": "VHIri1ABQK6O"
      }
    },
    {
      "cell_type": "code",
      "source": [
        "dataset = df\n",
        "dataset.head()"
      ],
      "metadata": {
        "id": "v9nZJBgZIUwp"
      },
      "execution_count": null,
      "outputs": []
    },
    {
      "cell_type": "code",
      "source": [
        "# Memvisualisasikan hubungan antar fitur menggunakan pair plot   \n",
        "sns.pairplot(data = df, height = 2)  "
      ],
      "metadata": {
        "id": "vBCSPj11iwes"
      },
      "execution_count": null,
      "outputs": []
    },
    {
      "cell_type": "markdown",
      "source": [
        "Dapat dilihat bahwa jika semakin besar nilai 'SepalLengthCm', 'SepalWidthCm', 'PetalLengthCm', dan 'PetalWidthCm', maka bunga iris dapat diklasifikasikan ke dalam spesies '0 = Setosa', jika nilai berada di tengah-tengah, berarti spesies yang dimaksud adalah '1 = Versicolor, dan jika nilai semakin rendah maka bunga iris dalam dataset tersebut termasuk dalam spesies '2 = Virginica'. \n",
        "\n",
        "\n"
      ],
      "metadata": {
        "id": "p8pR3HaGjeW3"
      }
    },
    {
      "cell_type": "markdown",
      "source": [
        "### Menetapkan nilai untuk variabel independen (X) dan variabel dependen (Y)"
      ],
      "metadata": {
        "id": "0Ahx7Q6WQEOG"
      }
    },
    {
      "cell_type": "code",
      "source": [
        "#Menetapkan nilai untuk X dan Y\n",
        "x = dataset[['SepalLengthCm', 'SepalWidthCm', 'PetalLengthCm', 'PetalWidthCm']]\n",
        "y = dataset['Species']"
      ],
      "metadata": {
        "id": "OES2ldALNubu"
      },
      "execution_count": null,
      "outputs": []
    },
    {
      "cell_type": "markdown",
      "source": [
        "### Memisahkan dataset menjadi train dan test set"
      ],
      "metadata": {
        "id": "YbHSWbkwP_Ma"
      }
    },
    {
      "cell_type": "code",
      "source": [
        "#Memisahkan dataset\n",
        "from sklearn.model_selection import train_test_split \n",
        "\n",
        "x_train, x_test, y_train, y_test = train_test_split(x, y, test_size = 0.3, random_state = 100)"
      ],
      "metadata": {
        "id": "BYwiW7stN5PW"
      },
      "execution_count": null,
      "outputs": []
    },
    {
      "cell_type": "markdown",
      "source": [
        "### Menerapkan model linier"
      ],
      "metadata": {
        "id": "Q_-gPiepQagx"
      }
    },
    {
      "cell_type": "code",
      "source": [
        "#Fitting the Multiple Linear Regression model\n",
        "from sklearn.linear_model import LinearRegression\n",
        "\n",
        "mlr = LinearRegression()  \n",
        "mlr.fit(x_train, y_train)"
      ],
      "metadata": {
        "id": "DQ65nwV2OZsv"
      },
      "execution_count": null,
      "outputs": []
    },
    {
      "cell_type": "markdown",
      "source": [
        "### Persamaan Model"
      ],
      "metadata": {
        "id": "To_SoHR0Qop_"
      }
    },
    {
      "cell_type": "code",
      "source": [
        "#Intercept and Coefficient\n",
        "print(\"Intercept: \", mlr.intercept_)\n",
        "print(\"Coefficients:\")\n",
        "list(zip(x, mlr.coef_))\n",
        "# print(\"Intercept: \", clf.intercept_)\n",
        "# print(\"Coefficients:\")\n",
        "# list(zip(x, clf.coef_))"
      ],
      "metadata": {
        "id": "JGVxA_otOnVw"
      },
      "execution_count": null,
      "outputs": []
    },
    {
      "cell_type": "markdown",
      "source": [
        "### Prediksi pada set tes"
      ],
      "metadata": {
        "id": "pjw1tvSKQ0-3"
      }
    },
    {
      "cell_type": "code",
      "source": [
        "y_pred_mlr= mlr.predict(x_test)\n",
        "\n",
        "#Prediksi Nilai\n",
        "print(\"Prediksi pada set tes: {}\".format(y_pred_mlr))"
      ],
      "metadata": {
        "id": "1koEULpnOwOg"
      },
      "execution_count": null,
      "outputs": []
    },
    {
      "cell_type": "markdown",
      "source": [
        "### Nilai aktual dan nilai prediksi"
      ],
      "metadata": {
        "id": "5-IdGyc3RJX6"
      }
    },
    {
      "cell_type": "code",
      "source": [
        "mlr_diff = pd.DataFrame({'Nilai Aktual': y_test, 'Nilai Prediksi': y_pred_mlr})\n",
        "mlr_diff.head()"
      ],
      "metadata": {
        "id": "Hf59xR0BO14v"
      },
      "execution_count": null,
      "outputs": []
    },
    {
      "cell_type": "markdown",
      "source": [
        "### Mengevaluasi Model"
      ],
      "metadata": {
        "id": "ELFuAkrBRWqt"
      }
    },
    {
      "cell_type": "code",
      "source": [
        "from sklearn import metrics\n",
        "\n",
        "meanAbErr = metrics.mean_absolute_error(y_test, y_pred_mlr)\n",
        "meanSqErr = metrics.mean_squared_error(y_test, y_pred_mlr)\n",
        "rootMeanSqErr = np.sqrt(metrics.mean_squared_error(y_test, y_pred_mlr))\n",
        "\n",
        "print('R squared: {:.2f}'.format(mlr.score(x,y)*100))\n",
        "print('Mean Absolute Error:', meanAbErr)\n",
        "print('Mean Square Error:', meanSqErr)\n",
        "print('Root Mean Square Error:', rootMeanSqErr)"
      ],
      "metadata": {
        "id": "O4Jh_kvCPC2a"
      },
      "execution_count": null,
      "outputs": []
    },
    {
      "cell_type": "markdown",
      "source": [
        "### Visualisasi Kinerja Model"
      ],
      "metadata": {
        "id": "Um2C-qOTmOB8"
      }
    },
    {
      "cell_type": "code",
      "source": [
        "#Membandingkan nilai aktual dan prediksi untuk melihat seberapa baik kinerja model\n",
        "\n",
        "ax1 = sns.distplot(y_test, hist=False, color=\"r\", label=\"Actual Value\")\n",
        "sns.distplot(y_pred_mlr, hist=False, color=\"b\", label=\"Fitted Values\" , ax=ax1)"
      ],
      "metadata": {
        "id": "9fDtHtuVlxCq"
      },
      "execution_count": null,
      "outputs": []
    },
    {
      "cell_type": "markdown",
      "source": [
        "### Kesimpulan\n",
        "\n",
        "Dapat dilihat bahwa Model Regresi Linier Berganda di atas bekerja dengan cukup baik karena 92,86% data sesuai dengan model regresi. Juga, kesalahan absolut rata-rata (Mean Absolute Error), kesalahan kuadrat rata-rata (Mean Squared Error), dan kesalahan kuadrat akar rata-rata lebih kecil (Root Mean Square Error)."
      ],
      "metadata": {
        "id": "4tdULjeARwBG"
      }
    },
    {
      "cell_type": "markdown",
      "source": [
        "## Desicion Tree"
      ],
      "metadata": {
        "id": "ZvFPuIUYdnns"
      }
    },
    {
      "cell_type": "markdown",
      "source": [
        "### Menerapkan model decision tree"
      ],
      "metadata": {
        "id": "dhY2ydP1gnPi"
      }
    },
    {
      "cell_type": "code",
      "source": [
        "from sklearn import tree\n",
        "\n",
        "clf = tree.DecisionTreeClassifier()\n",
        "clf = clf.fit(x_train, y_train)"
      ],
      "metadata": {
        "id": "uVTcE6M0UWUK"
      },
      "execution_count": null,
      "outputs": []
    },
    {
      "cell_type": "markdown",
      "source": [
        "### Prediksi pada set tes"
      ],
      "metadata": {
        "id": "9h2lpIbRVa_K"
      }
    },
    {
      "cell_type": "code",
      "source": [
        "y_pred_clf= clf.predict(x_test)\n",
        "\n",
        "#Prediksi nilai untuk model classification tree\n",
        "print(\"Prediksi pada set tes: {}\".format(y_pred_clf))"
      ],
      "metadata": {
        "id": "4LRiO3pFUyMI"
      },
      "execution_count": null,
      "outputs": []
    },
    {
      "cell_type": "markdown",
      "source": [
        "### Nilai aktual dan nilai prediksi classification tree"
      ],
      "metadata": {
        "id": "XqvUe-eUVrsU"
      }
    },
    {
      "cell_type": "code",
      "source": [
        "clf_diff = pd.DataFrame({'Nilai Aktual': y_test, 'Nilai Prediksi': y_pred_clf})\n",
        "clf_diff.head()"
      ],
      "metadata": {
        "id": "ThnZMKxfUsak"
      },
      "execution_count": null,
      "outputs": []
    },
    {
      "cell_type": "markdown",
      "source": [
        "### Mengevaluasi Model"
      ],
      "metadata": {
        "id": "8gXyAhf_Yja_"
      }
    },
    {
      "cell_type": "code",
      "source": [
        "from sklearn.metrics import confusion_matrix, accuracy_score\n",
        "\n",
        "print(\"Accuracy: {:.2f}%\".format(accuracy_score(y_test, y_pred_clf)*100))\n",
        "\n",
        "conmat = confusion_matrix(y_test, y_pred_clf)\n",
        "val = np.mat(conmat) \n",
        "\n",
        "classnames = list(set(y_train))\n",
        "\n",
        "df_cm = pd.DataFrame(\n",
        "\n",
        "        val, index=classnames, columns=classnames, \n",
        "\n",
        "    )\n",
        "\n",
        "print(df_cm)"
      ],
      "metadata": {
        "id": "RBal1kZ_YvJU"
      },
      "execution_count": null,
      "outputs": []
    },
    {
      "cell_type": "code",
      "source": [
        "import matplotlib.pyplot as plt\n",
        "\n",
        "import seaborn as sns\n",
        "\n",
        "plt.figure()\n",
        "\n",
        "heatmap = sns.heatmap(df_cm, annot=True, cmap=\"Blues\")\n",
        "\n",
        "heatmap.yaxis.set_ticklabels(heatmap.yaxis.get_ticklabels(), rotation=0, ha='right')\n",
        "\n",
        "heatmap.xaxis.set_ticklabels(heatmap.xaxis.get_ticklabels(), rotation=45, ha='right')\n",
        "\n",
        "plt.ylabel('True label')\n",
        "\n",
        "plt.xlabel('Predicted label')\n",
        "\n",
        "plt.title('Iris Flower Classification Tree Results')\n",
        "\n",
        "plt.show()    "
      ],
      "metadata": {
        "id": "1bUijTyobG57"
      },
      "execution_count": null,
      "outputs": []
    },
    {
      "cell_type": "markdown",
      "source": [
        "### Visualisasi Kinerja Model"
      ],
      "metadata": {
        "id": "GQyhTTTTWL9E"
      }
    },
    {
      "cell_type": "code",
      "source": [
        "#Membandingkan nilai aktual dan prediksi untuk melihat seberapa baik kinerja model\n",
        "\n",
        "ax1 = sns.distplot(y_test, hist=False, color=\"r\", label=\"Actual Value\")\n",
        "sns.distplot(y_pred_clf, hist=False, color=\"b\", label=\"Fitted Values\" , ax=ax1)"
      ],
      "metadata": {
        "id": "WIjJeOK6WaRN"
      },
      "execution_count": null,
      "outputs": []
    },
    {
      "cell_type": "markdown",
      "source": [
        "### Kesimpulan\n",
        "\n",
        "Model Decision Tree di atas bekerja dengan sangat baik karena 97.73% data sesuai dengan model decision tree. Juga, berdasarkan confusion matrix hanya ada 1 data yang salah"
      ],
      "metadata": {
        "id": "m-sLsnjWW8ro"
      }
    }
  ],
  "metadata": {
    "colab": {
      "collapsed_sections": [],
      "provenance": [],
      "include_colab_link": true
    },
    "kernelspec": {
      "display_name": "Python 3",
      "name": "python3"
    },
    "language_info": {
      "name": "python"
    }
  },
  "nbformat": 4,
  "nbformat_minor": 0
}